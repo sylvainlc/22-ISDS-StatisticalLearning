{
 "cells": [
  {
   "cell_type": "markdown",
   "metadata": {
    "id": "5bUbgxteMNUb"
   },
   "source": [
    "# <font color=darkcyan>  Introduction to Bayes classification with discriminant analysis</font>"
   ]
  },
  {
   "cell_type": "code",
   "execution_count": null,
   "metadata": {
    "id": "-uxmMu3uMNUe"
   },
   "outputs": [],
   "source": [
    "import numpy as np\n",
    "import scipy.stats as ss\n",
    "import matplotlib.pyplot as plt\n",
    "from sklearn.discriminant_analysis import LinearDiscriminantAnalysis, QuadraticDiscriminantAnalysis\n",
    "from sklearn.model_selection import train_test_split\n",
    "import sklearn.metrics as metrics"
   ]
  },
  {
   "cell_type": "markdown",
   "metadata": {
    "id": "4Q5FcDGtMNUf"
   },
   "source": [
    "### <font color=darkred> Linear discriminant analysis </font>"
   ]
  },
  {
   "cell_type": "code",
   "execution_count": null,
   "metadata": {
    "id": "tbtJ3xIwMNUg"
   },
   "outputs": [],
   "source": [
    "# set parameters\n",
    "n = 100\n",
    "mu1 = np.array([-3, 0])\n",
    "mu2 = np.array([3, 5])\n",
    "mu3 = np.array([4, -4])\n",
    "mu = [mu1, mu2, mu3]\n",
    "sigma = [1, 1, 1]\n",
    "rho = [0.5, 0.5, 0.5]\n",
    "cov = [np.array([[1,r],[r,1]])*s for r,s in zip(rho,sigma)]"
   ]
  },
  {
   "cell_type": "markdown",
   "metadata": {
    "id": "RZJKOgxWMNUh"
   },
   "source": [
    "<font color=darkred>\n",
    "    \n",
    "- For each pair of mean and covariance, sample n Gaussian random variables with the associated mean and covariance.\n",
    "\n",
    "- Associate each random variable with a label depending on the mean and covariance.\n",
    "    \n",
    "</font>"
   ]
  },
  {
   "cell_type": "code",
   "execution_count": null,
   "metadata": {
    "id": "prvUQ4OGMNUh"
   },
   "outputs": [],
   "source": []
  },
  {
   "cell_type": "code",
   "execution_count": null,
   "metadata": {
    "colab": {
     "base_uri": "https://localhost:8080/"
    },
    "id": "x6WKu8dTMNUi",
    "outputId": "94167396-cf4d-44d7-83ad-b91bada6794e"
   },
   "outputs": [],
   "source": []
  },
  {
   "cell_type": "code",
   "execution_count": null,
   "metadata": {
    "colab": {
     "base_uri": "https://localhost:8080/"
    },
    "id": "JTdOOxm7MNUj",
    "outputId": "4c71d084-613e-481d-e533-1319c0643a27"
   },
   "outputs": [],
   "source": []
  },
  {
   "cell_type": "markdown",
   "metadata": {
    "id": "rCWg3sO6MNUj"
   },
   "source": [
    "<font color=darkred>\n",
    "    \n",
    "- Run a linear discriminant analysis using ``LinearDiscriminantAnalysis`` from ``sklearn.discriminant_analysis``  \n",
    "    \n",
    "</font>"
   ]
  },
  {
   "cell_type": "code",
   "execution_count": null,
   "metadata": {
    "colab": {
     "base_uri": "https://localhost:8080/",
     "height": 80
    },
    "id": "R79R4D76MNUj",
    "outputId": "2690aa28-71dd-4748-d1e6-417324baa8fd"
   },
   "outputs": [],
   "source": []
  },
  {
   "cell_type": "markdown",
   "metadata": {
    "id": "krbkFdcfMNUk"
   },
   "source": [
    "<font color=darkred>\n",
    "    \n",
    "- Compare the LDA estimated parameters with MLE computations.\n",
    "    \n",
    "</font>"
   ]
  },
  {
   "cell_type": "code",
   "execution_count": null,
   "metadata": {
    "colab": {
     "base_uri": "https://localhost:8080/"
    },
    "id": "0TEZquqAMNUk",
    "outputId": "64b2a55b-e0d8-4479-9d56-c2f68013b8de"
   },
   "outputs": [],
   "source": []
  },
  {
   "cell_type": "code",
   "execution_count": null,
   "metadata": {
    "colab": {
     "base_uri": "https://localhost:8080/"
    },
    "id": "O5_A50AAMNUk",
    "outputId": "0bd01180-1893-4ce7-b95c-9bb3000f03d4"
   },
   "outputs": [],
   "source": []
  },
  {
   "cell_type": "code",
   "execution_count": null,
   "metadata": {
    "colab": {
     "base_uri": "https://localhost:8080/"
    },
    "id": "TYL2KGbpMNUl",
    "outputId": "3e929b23-2ff3-44d1-fe8d-77f333340b64"
   },
   "outputs": [],
   "source": []
  },
  {
   "cell_type": "markdown",
   "metadata": {
    "id": "nsBlo2_sMNUl"
   },
   "source": [
    "<font color=darkred>\n",
    "    \n",
    "- Compare the LDA prediction using ``predict`` with the decision_function chosen label.\n",
    "    \n",
    "</font>"
   ]
  },
  {
   "cell_type": "code",
   "execution_count": null,
   "metadata": {
    "id": "0VoJK6isMNUl"
   },
   "outputs": [],
   "source": []
  },
  {
   "cell_type": "code",
   "execution_count": null,
   "metadata": {
    "colab": {
     "base_uri": "https://localhost:8080/"
    },
    "id": "lJD4guuMMNUl",
    "outputId": "2d0400f4-9e93-4ac6-9165-487b40252ade"
   },
   "outputs": [],
   "source": []
  },
  {
   "cell_type": "markdown",
   "metadata": {
    "id": "JQ5FNH5ZM7la"
   },
   "source": [
    "<font color=darkred>\n",
    "    \n",
    "- Display the decision boundary with ``DecisionBoundaryDisplay``.\n",
    "    \n",
    "</font>"
   ]
  },
  {
   "cell_type": "code",
   "execution_count": null,
   "metadata": {
    "colab": {
     "base_uri": "https://localhost:8080/",
     "height": 430
    },
    "id": "s1Pei7ceM7vP",
    "outputId": "d5bf1947-9c71-48a1-cffe-07f18765d188"
   },
   "outputs": [],
   "source": []
  },
  {
   "cell_type": "markdown",
   "metadata": {
    "id": "OYvlvi7UMNUm"
   },
   "source": [
    "### <font color=darkred> Quadratic discriminant analysis </font>"
   ]
  },
  {
   "cell_type": "code",
   "execution_count": null,
   "metadata": {
    "id": "BDc1xZfTMNUm"
   },
   "outputs": [],
   "source": [
    "# set parameters\n",
    "n = 100\n",
    "mu = [np.array([-2, 0]),\n",
    "      np.array([2.8, 3.5]),\n",
    "      np.array([4, -5.4])]\n",
    "sigma = [1, 0.2, 1.3]\n",
    "rho = [-.5, 0.5, 0.2]\n",
    "cov = [np.array([[1,r],[r,1]])*s for r,s in zip(rho,sigma)]"
   ]
  },
  {
   "cell_type": "markdown",
   "metadata": {
    "id": "vQSRO57wMNUm"
   },
   "source": [
    "<font color=darkred>\n",
    "    \n",
    "- For each pair of mean and covariance, sample n Gaussian random variables with the associated mean and covariance.\n",
    "\n",
    "- Associate each random variable with a label depending on the mean and covariance.\n",
    "    \n",
    "</font>"
   ]
  },
  {
   "cell_type": "code",
   "execution_count": null,
   "metadata": {
    "id": "0Gkqpm3IMNUm"
   },
   "outputs": [],
   "source": []
  },
  {
   "cell_type": "code",
   "execution_count": null,
   "metadata": {
    "id": "isclNU4MMNUm",
    "outputId": "2480c941-f2ec-4b1a-d0da-c2e038438c8a"
   },
   "outputs": [],
   "source": []
  },
  {
   "cell_type": "markdown",
   "metadata": {
    "id": "gglCJ52VMNUm"
   },
   "source": [
    "<font color=darkred>\n",
    "    \n",
    "- Run a quadratic discriminant analysis using ``QuadraticDiscriminantAnalysis`` from ``sklearn.discriminant_analysis``  \n",
    "    \n",
    "</font>"
   ]
  },
  {
   "cell_type": "code",
   "execution_count": null,
   "metadata": {
    "colab": {
     "base_uri": "https://localhost:8080/",
     "height": 80
    },
    "id": "j5tj_MVaMNUm",
    "outputId": "47134a10-4fc3-42c9-d13a-f4fb95938b94"
   },
   "outputs": [],
   "source": []
  },
  {
   "cell_type": "markdown",
   "metadata": {
    "id": "YAVfsdmvMNUn"
   },
   "source": [
    "<font color=darkred>\n",
    "    \n",
    "- Compare the QDA estimated parameters with MLE computations.\n",
    "    \n",
    "</font>"
   ]
  },
  {
   "cell_type": "code",
   "execution_count": null,
   "metadata": {
    "id": "2UPmid2GMNUn"
   },
   "outputs": [],
   "source": []
  },
  {
   "cell_type": "code",
   "execution_count": null,
   "metadata": {
    "colab": {
     "base_uri": "https://localhost:8080/"
    },
    "id": "RfcNdF9JMNUn",
    "outputId": "7a0454d8-87b6-42a3-81dc-d3a4ee34ea77"
   },
   "outputs": [],
   "source": []
  },
  {
   "cell_type": "code",
   "execution_count": null,
   "metadata": {
    "colab": {
     "base_uri": "https://localhost:8080/"
    },
    "id": "SHLQCzptMNUn",
    "outputId": "c9c5f7e3-5651-40e7-eca6-50d8e364b33d"
   },
   "outputs": [],
   "source": []
  },
  {
   "cell_type": "markdown",
   "metadata": {
    "id": "OZSuE8H9N3BD"
   },
   "source": [
    "<font color=darkred>\n",
    "    \n",
    "- Display the decision boundary with ``DecisionBoundaryDisplay``.\n",
    "    \n",
    "</font>"
   ]
  },
  {
   "cell_type": "code",
   "execution_count": null,
   "metadata": {
    "colab": {
     "base_uri": "https://localhost:8080/",
     "height": 430
    },
    "id": "-5taHBqzMNUn",
    "outputId": "89f512d2-905a-498d-8f46-94237f9588c8"
   },
   "outputs": [],
   "source": []
  },
  {
   "cell_type": "markdown",
   "metadata": {
    "id": "t2QMwB7hMNUo"
   },
   "source": [
    "### <font color=darkred> Discriminant analysis with real data </font>"
   ]
  },
  {
   "cell_type": "markdown",
   "metadata": {
    "id": "4KRQt09fMNUo"
   },
   "source": [
    "This data sets consists of 3 different types of irises’ (Setosa, Versicolour, and Virginica) petal and sepal length, stored in a 150x4 numpy.ndarray\n",
    "\n",
    "The rows being the samples and the columns being: Sepal Length, Sepal Width, Petal Length and Petal Width.\n",
    "\n",
    "The dataset can be found here https://scikit-learn.org/1.5/auto_examples/datasets/plot_iris_dataset.html"
   ]
  },
  {
   "cell_type": "code",
   "execution_count": null,
   "metadata": {
    "id": "De42ewphMNUo",
    "scrolled": true
   },
   "outputs": [],
   "source": [
    "from sklearn.datasets import load_iris\n",
    "\n",
    "# Load Iris dataset\n",
    "iris = load_iris()\n",
    "X_iris = iris.data\n",
    "y_iris = iris.target\n",
    "\n",
    "# Select two classes for visualization\n",
    "X_iris = X_iris[:100, [0, 2]]\n",
    "y_iris = y_iris[:100]"
   ]
  },
  {
   "cell_type": "markdown",
   "metadata": {
    "id": "clOeK0HqMNUo"
   },
   "source": [
    "<font color=darkred>\n",
    "    \n",
    "- Compare the empirical means and covariances in each group.\n",
    "    \n",
    "</font>"
   ]
  },
  {
   "cell_type": "code",
   "execution_count": null,
   "metadata": {
    "id": "Mx8Ie3_rMNUo"
   },
   "outputs": [],
   "source": []
  },
  {
   "cell_type": "code",
   "execution_count": null,
   "metadata": {
    "id": "dRFNuwzQMNUp"
   },
   "outputs": [],
   "source": []
  },
  {
   "cell_type": "markdown",
   "metadata": {
    "id": "AmxfmaJ1Rqmr"
   },
   "source": [
    "<font color=darkred>\n",
    "    \n",
    "- Display the decision boundary of a QDA on this dataset.\n",
    "    \n",
    "</font>"
   ]
  },
  {
   "cell_type": "code",
   "execution_count": null,
   "metadata": {
    "colab": {
     "base_uri": "https://localhost:8080/",
     "height": 80
    },
    "id": "uMuoTy4kMNUp",
    "outputId": "edca3adb-d674-4fbd-e847-e7d3b6021603"
   },
   "outputs": [],
   "source": []
  },
  {
   "cell_type": "markdown",
   "metadata": {
    "id": "AIdbG8lAR5od"
   },
   "source": []
  },
  {
   "cell_type": "code",
   "execution_count": null,
   "metadata": {
    "colab": {
     "base_uri": "https://localhost:8080/",
     "height": 449
    },
    "id": "HF9xw8Q0R50o",
    "outputId": "8d96ab5f-48ea-48bd-bf0d-07cf5910a3a4"
   },
   "outputs": [],
   "source": []
  },
  {
   "cell_type": "code",
   "execution_count": null,
   "metadata": {
    "id": "0sTSMHeeMNUp"
   },
   "outputs": [],
   "source": []
  }
 ],
 "metadata": {
  "colab": {
   "provenance": []
  },
  "kernelspec": {
   "display_name": "Python 3 (ipykernel)",
   "language": "python",
   "name": "python3"
  },
  "language_info": {
   "codemirror_mode": {
    "name": "ipython",
    "version": 3
   },
   "file_extension": ".py",
   "mimetype": "text/x-python",
   "name": "python",
   "nbconvert_exporter": "python",
   "pygments_lexer": "ipython3",
   "version": "3.9.13"
  }
 },
 "nbformat": 4,
 "nbformat_minor": 1
}
