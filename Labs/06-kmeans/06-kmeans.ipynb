{
 "cells": [
  {
   "cell_type": "markdown",
   "metadata": {},
   "source": [
    "# <font color=darkcyan> K-means algorithm</font>"
   ]
  },
  {
   "cell_type": "code",
   "execution_count": null,
   "metadata": {},
   "outputs": [],
   "source": [
    "# ignore warnings for better clarity (may not be the best thing to do)...\n",
    "import warnings\n",
    "warnings.filterwarnings('ignore')"
   ]
  },
  {
   "cell_type": "code",
   "execution_count": null,
   "metadata": {},
   "outputs": [],
   "source": [
    "import numpy as np\n",
    "import matplotlib.pyplot as plt\n",
    "import pandas as pd"
   ]
  },
  {
   "cell_type": "markdown",
   "metadata": {},
   "source": [
    "The K-means algorithm is a procedure which aims at partitioning a data set into $K$ distinct, non-overlapping clusters.\n",
    "Consider $n\\geqslant 1$ observations $(X_{1},\\ldots,X_{n})$ taking values in $\\mathbb{R}^p$.\n",
    "The $K$-means algorithm seeks to minimize over all partitions $C = (C_{1},\\ldots,C_{K})$ of $\\{1,\\ldots,n\\}$ the following criterion\n",
    "$$\n",
    "\\textrm{crit}(C)=\\sum_{k=1}^K{1\\over |C_{k}|}\\sum_{a,b\\in C_{k}} \\|X_{a}-X_{b}\\|^2\\,,\n",
    "$$\n",
    "where for all $1\\leqslant i\\leqslant n$, $1\\leqslant k\\leqslant K$, $i\\in C_k$ if and only if $X_i$ is in the $k$-th cluster."
   ]
  },
  {
   "cell_type": "markdown",
   "metadata": {},
   "source": [
    "For all $j$, we write $\\bar{X}_{C_j}$ for the empirical mean of data with index in $C_j$."
   ]
  },
  {
   "cell_type": "markdown",
   "metadata": {},
   "source": [
    "Define the distance between two clusters $1\\leqslant i,j\\leqslant K$ as \n",
    "$$\n",
    "d(C_i,C_j) = \\sum_{a\\in C_i\\cup C_j}\\|X_{a}-\\bar{X}_{C_{i}\\cup C_j}\\|^2 - \\sum_{a\\in C_i}\\|X_{a}-\\bar{X}_{C_i}\\|^2 -\\sum_{a\\in  C_j}\\|X_{a}-\\bar{X}_{C_j}\\|^2\\,.\n",
    "$$\n"
   ]
  },
  {
   "cell_type": "markdown",
   "metadata": {},
   "source": [
    "<font color=darkred>Prove that for all $1\\leqslant i,j\\leqslant K$,\n",
    "$$\n",
    "d(C_i,C_j) = \\frac{|C_i||C_j|}{|C_i|+|C_j|}\\|\\bar{X}_{C_{i}}-\\bar{X}_{C_{j}}\\|^2\\,.\n",
    "$$\n",
    "</font>"
   ]
  },
  {
   "cell_type": "markdown",
   "metadata": {},
   "source": [
    " For all $1\\leqslant i,j\\leqslant K$, note tthat\n",
    "$$\n",
    "\\bar{X}_{C_{i}\\cup C_j} = \\frac{|C_i|}{|C_i|+|C_j|}\\bar{X}_{C_{i}} + \\frac{|C_j|}{|C_i|+|C_j|}\\bar{X}_{C_j}\\,,\n",
    "$$\n",
    "so that\n",
    "\\begin{align*}\n",
    " \\sum_{a\\in C_i}\\|X_{a}-\\bar{X}_{C_{i}\\cup C_j}\\|^2 & =\\sum_{a\\in C_i}\\left\\|X_{a}-\\bar{X}_{C_{i}} + \\frac{|C_j|}{|C_i|+|C_j|}(\\bar{X}_{C_{i}} -\\bar{X}_{C_{j}} )\\right\\|^2  \\,,\\\\\n",
    "&= \\sum_{a\\in C_i}\\left\\|X_{a}-\\bar{X}_{C_{i}}\\right\\|^2 + 2\\sum_{a\\in C_i}\\left \\langle X_{a}-\\bar{X}_{C_{i}};\\frac{|C_j|}{|C_i|+|C_j|}(\\bar{X}_{C_{i}} -\\bar{X}_{C_{j}})\\right\\rangle  \\\\\n",
    "&\\hspace{6cm}+ |C_i|\\left\\|\\frac{|C_j|}{|C_i|+|C_j|}(\\bar{X}_{C_{i}} -\\bar{X}_{C_{j}})\\right\\|^2\\,,\\\\\n",
    "&=  \\sum_{a\\in C_i}\\left\\|X_{a}-\\bar{X}_{C_{i}}\\right\\|^2 + \\frac{|C_i||C_j|^2}{(|C_i|+|C_j|)^2}\\left\\|\\bar{X}_{C_{i}} -\\bar{X}_{C_{j}}\\right\\|^2\\,.\n",
    "\\end{align*}\n",
    "Similarly,\n",
    "$$\n",
    "\\sum_{a\\in C_j}\\|X_{a}-\\bar{X}_{C_{i}\\cup C_j}\\|^2 = \\sum_{a\\in C_j}\\left\\|X_{a}-\\bar{X}_{C_{j}}\\right\\|^2 + \\frac{|C_j||C_i|^2}{(|C_i|+|C_j|)^2}\\left\\|\\bar{X}_{C_{i}} -\\bar{X}_{C_{j}}\\right\\|^2\\,.\n",
    "$$\n",
    "Therefore,\n",
    "$$\n",
    " \\sum_{a\\in C_i\\cup C_j}\\|X_{a}-\\bar{X}_{C_{i}\\cup C_j}\\|^2 =  \\sum_{a\\in C_i}\\left\\|X_{a}-\\bar{X}_{C_{i}}\\right\\|^2 +  \\sum_{a\\in C_j}\\left\\|X_{a}-\\bar{X}_{C_{j}}\\right\\|^2 + \\frac{|C_i||C_j|}{|C_i|+|C_j|}\\left\\|\\bar{X}_{C_{i}} -\\bar{X}_{C_{j}}\\right\\|^2\\,,\n",
    "$$\n",
    "which concludes the proof."
   ]
  },
  {
   "cell_type": "markdown",
   "metadata": {},
   "source": [
    "<font color=darkred>  Establish that\n",
    "$$\n",
    "\\textrm{crit}(C)= 2\\sum_{k=1}^K{1\\over |C_{k}|}\\sum_{a,b\\in C_{k}} \\langle X_{a},X_{a}-X_{b}\\rangle = 2\\sum_{k=1}^K\\sum_{a\\in C_{k}}\\|X_{a}-\\bar{X}_{C_{k}}\\|^2\\,,\n",
    "$$\n",
    "where\n",
    "$$\n",
    "\\bar{X}_{C_{k}}={1\\over |C_{k}|}\\sum_{b\\in C_{k}} X_{b}\\,.\n",
    "$$</font>"
   ]
  },
  {
   "cell_type": "markdown",
   "metadata": {},
   "source": [
    "Note that \n",
    "\\begin{align*}\n",
    "\\textrm{crit}(C) & = \\sum_{k=1}^K \\frac{1}{|C_k|}\\sum_{a, b\\in G_{k}} \\| X_a-X_b \\|^2\\,,\\\\\n",
    "&=\\sum_{k=1}^K \\frac{1}{|C_k|}\\sum_{a, b\\in C_{k}} \\langle X_a-X_b,X_a -X_b \\rangle \\,,\\\\\n",
    "&=\\sum_{k=1}^K \\frac{1}{|C_k|}\\left\\{\\sum_{a, b\\in C_{k}} \\langle X_a-X_b,X_a \\rangle + \\langle X_b-X_a,X_b \\rangle\\right\\} \\,,\\\\\n",
    "&=2\\sum_{k=1}^K \\frac{1}{|C_k|}\\sum_{a, b\\in C_{k}} \\langle X_a-X_b,X_a\\rangle\\,.\n",
    "\\end{align*}\n",
    "which concludes the proof of the first inequality. For the second inequality, write\n",
    "\\begin{align*}\n",
    "\\sum_{k=1}^K\\sum_{a\\in C_{k}}\\|X_{a}-\\bar{X}_{C_{k}}\\|^2 & = \\sum_{k=1}^K \\sum_{a\\in C_{k}} \\langle X_a - \\frac{1}{|C_k|} \\sum_{b \\in C_k} X_b,X_a - \\frac{1}{|C_k|} \\sum_{c \\in C_k} X_c \\rangle\\,, \\\\\n",
    "& = \\sum_{k=1}^K \\frac{1}{|C_k|^2}\\sum_{a, b, c\\in C_{k}} \\langle X_a - X_b,X_a - X_c \\rangle\\,, \\\\\n",
    "& = \\sum_{k=1}^K \\frac{1}{|C_k|^2}\\sum_{a, b, c\\in C_{k}} \\langle X_a - X_b,X_a \\rangle - \\sum_{k=1}^K \\frac{1}{|C_k|^2}\\sum_{a, b, c\\in C_{k}} \\langle X_a - X_b,X_c \\rangle\\,,\n",
    "\\end{align*}\n",
    "where\n",
    "$$\n",
    "\\sum_{a, b, c\\in C_{k}} \\langle X_a - X_b,X_c \\rangle  = |C_k| \\sum_{a, c\\in C_{k}} \\langle X_a ,X_c \\rangle - |C_k| \\sum_{b, c\\in C_{k}} \\langle X_b ,X_c \\rangle= 0\\,.\n",
    "$$\n",
    "Thus, \n",
    "$$\n",
    "\\textrm{crit}(C) = 2\\sum_{k=1}^K\\sum_{a\\in C_{k}}\\|X_{a}-\\bar{X}_{C_{k}}\\|^2\\,.\n",
    "$$"
   ]
  },
  {
   "cell_type": "markdown",
   "metadata": {},
   "source": [
    "### <font color=darkred>  Kmeans algorithm </font>"
   ]
  },
  {
   "cell_type": "markdown",
   "metadata": {},
   "source": [
    "Initialize the set of k means: $m_1(1), ..., m_k(1)$. Then, each iteration $p\\geq 1$ is decomposed into two steps."
   ]
  },
  {
   "cell_type": "markdown",
   "metadata": {},
   "source": [
    "**Association step**: each observation is associated with the cluster with the nearest mean in Euclidean distance."
   ]
  },
  {
   "cell_type": "markdown",
   "metadata": {},
   "source": [
    "**Update step**: Compute the new mean of each cluster $m_1(p+1), ..., m_k(p+1)$."
   ]
  },
  {
   "cell_type": "markdown",
   "metadata": {},
   "source": [
    "<font color=darkred>Prove that the criterion monotonically decreases with the iterations of the K-means algorithm.</font>"
   ]
  },
  {
   "cell_type": "markdown",
   "metadata": {},
   "source": [
    "For any cluster $C$ in and any $z\\in \\mathbb{R}^p$,\n",
    "$$\n",
    "\\sum_{a\\in C}\\|X_{a}-z\\|^2 = \\sum_{a\\in C}\\|X_{a}-\\bar{X}_{C}\\|^2  + \\sum_{a\\in C}\\|\\bar{X}_{C}-z\\|^2 +2\\sum_{a\\in C}\\langle \\bar{X}_{C}-z;X_{a}-\\bar{X}_{C} \\rangle = \\sum_{a\\in C}\\|X_{a}-\\bar{X}_{C}\\|^2  + |C|\\|\\bar{X}_{C}-z\\|^2 \\,,\n",
    "$$\n",
    "so that \n",
    "$$\n",
    "\\sum_{a\\in C}\\|X_{a}-z\\|^2 \\geqslant \\sum_{a\\in C}\\|X_{a}-\\bar{X}_{C}\\|^2 \\,,\n",
    "$$\n",
    "which is enough to conclude the proof."
   ]
  },
  {
   "cell_type": "markdown",
   "metadata": {},
   "source": [
    "### <font color=darkred>  From scratch </font>"
   ]
  },
  {
   "cell_type": "code",
   "execution_count": null,
   "metadata": {},
   "outputs": [],
   "source": []
  },
  {
   "cell_type": "markdown",
   "metadata": {},
   "source": [
    "### <font color=darkred>  Kmeans with Sklearn </font>"
   ]
  },
  {
   "cell_type": "markdown",
   "metadata": {},
   "source": [
    "<font color=darkred>Load the digits dataset from sklearn</font>\n",
    "\n",
    "Each datapoint is a 8x8 image of a digit."
   ]
  },
  {
   "cell_type": "markdown",
   "metadata": {},
   "source": [
    "https://scikit-learn.org/stable/modules/generated/sklearn.datasets.load_digits.html"
   ]
  },
  {
   "cell_type": "code",
   "execution_count": null,
   "metadata": {},
   "outputs": [],
   "source": [
    "import numpy as np\n",
    "\n",
    "from sklearn.datasets import load_digits\n",
    "\n",
    "data, labels = load_digits(return_X_y=True)\n",
    "(n_samples, n_features), n_digits = data.shape, np.unique(labels).size"
   ]
  },
  {
   "cell_type": "code",
   "execution_count": null,
   "metadata": {},
   "outputs": [],
   "source": [
    "data"
   ]
  },
  {
   "cell_type": "code",
   "execution_count": null,
   "metadata": {},
   "outputs": [],
   "source": [
    "labels"
   ]
  },
  {
   "cell_type": "markdown",
   "metadata": {},
   "source": [
    "As the observations are high dimensional, vizualizations of kmeans output is not easy. We first propose to use a PCA to work with a low dimensional dataset."
   ]
  },
  {
   "cell_type": "markdown",
   "metadata": {},
   "source": [
    "<font color=darkred>Perform a PCA with 2 components</font>\n"
   ]
  },
  {
   "cell_type": "code",
   "execution_count": null,
   "metadata": {},
   "outputs": [],
   "source": [
    "from sklearn.decomposition import PCA\n",
    "pca_data = PCA(n_components=2).fit_transform(data)"
   ]
  },
  {
   "cell_type": "code",
   "execution_count": null,
   "metadata": {},
   "outputs": [],
   "source": [
    "plt.plot(pca_data[:, 0], pca_data[:, 1], \"m.\", markersize=2)"
   ]
  },
  {
   "cell_type": "markdown",
   "metadata": {},
   "source": [
    "<font color=darkred>Perform a Kmeans classification with ``n_digits`` classes</font>\n"
   ]
  },
  {
   "cell_type": "code",
   "execution_count": null,
   "metadata": {},
   "outputs": [],
   "source": [
    "kmeans = KMeans(init=\"k-means++\", n_clusters=n_digits)\n",
    "kmeans.fit(pca_data)"
   ]
  },
  {
   "cell_type": "code",
   "execution_count": null,
   "metadata": {},
   "outputs": [],
   "source": []
  },
  {
   "cell_type": "code",
   "execution_count": null,
   "metadata": {},
   "outputs": [],
   "source": []
  }
 ],
 "metadata": {
  "kernelspec": {
   "display_name": "Python 3 (ipykernel)",
   "language": "python",
   "name": "python3"
  },
  "language_info": {
   "codemirror_mode": {
    "name": "ipython",
    "version": 3
   },
   "file_extension": ".py",
   "mimetype": "text/x-python",
   "name": "python",
   "nbconvert_exporter": "python",
   "pygments_lexer": "ipython3",
   "version": "3.9.13"
  }
 },
 "nbformat": 4,
 "nbformat_minor": 2
}
